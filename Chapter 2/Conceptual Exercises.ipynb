{
 "cells": [
  {
   "cell_type": "markdown",
   "id": "61cbd618",
   "metadata": {},
   "source": [
    "# ***Chapter 2 - Conceptual Exercises*** "
   ]
  },
  {
   "cell_type": "markdown",
   "id": "41bad479",
   "metadata": {},
   "source": [
    "**1. For each of parts (a) through (d), indicate whether we would generally\n",
    "expect the performance of a flexible statistical learning method to be\n",
    "better or worse than an inflexible method. Justify your answer.**\n",
    "\n",
    "* *(a) The sample size n is extremely large, and the number of predictors p is small.*\n",
    "\n",
    "* *(b) The number of predictors p is extremely large, and the number of observations n is small.*\n",
    "\n",
    "* *(c) The relationship between the predictors and response is highly non-linear.*\n",
    "\n",
    "* *(d) The variance of the error terms, i.e. σ2 = Var(ϵ), is extremely high.*"
   ]
  },
  {
   "cell_type": "markdown",
   "id": "eb4b6168",
   "metadata": {},
   "source": [
    "**Answer:**\n",
    "\n",
    "a) The flexible statistical learning method would perform better than the inflexible method because with\n",
    "a large sample size and inflexible method would perform poorly not generalizing the behavior of the points.\n",
    "\n",
    "b) The flexible statistical learning method would perform worse than the inflexible method due to the small amount \n",
    "of given observations. With a flexible mode, you can run the risk of overfitting your data.\n",
    "\n",
    "c) The flexible statistical learning method would perform better because flexible methods generally perform better \n",
    "with predictors and response that are highly non-linear.\n",
    "\n",
    "d) The flexible statistical learning method would perform better than the inflexible method due to the high variance\n",
    "of the error terms in the dataset. An inflexible method would not be able to fit the data making it difficult to fit the\n",
    "noise and error terms."
   ]
  },
  {
   "cell_type": "markdown",
   "id": "3ff3a95a",
   "metadata": {},
   "source": [
    "**2. Explain whether each scenario is a classification or regression problem, and indicate whether \n",
    "we are most interested in inference or prediction. Finally, provide n and p.**\n",
    "\n",
    "* *(a) We collect a set of data on the top 500 firms in the US. For each\n",
    "firm we record profit, number of employees, industry and the\n",
    "CEO salary. We are interested in understanding which factors\n",
    "affect CEO salary.*\n",
    "\n",
    "* *(b) We are considering launching a new product and wish to know\n",
    "whether it will be a success or a failure. We collect data on 20\n",
    "similar products that were previously launched. For each product we have recorded whether it was a success or failure, price\n",
    "charged for the product, marketing budget, competition price,\n",
    "and ten other variables.*\n",
    "\n",
    "* *(c) We are interested in predicting the % change in the USD/Euro\n",
    "exchange rate in relation to the weekly changes in the world\n",
    "stock markets. Hence we collect weekly data for all of 2012. For\n",
    "each week we record the % change in the USD/Euro, the %\n",
    "change in the US market, the % change in the British market,\n",
    "and the % change in the German market.*"
   ]
  },
  {
   "cell_type": "code",
   "execution_count": null,
   "id": "94f3cba2",
   "metadata": {},
   "outputs": [],
   "source": []
  },
  {
   "cell_type": "code",
   "execution_count": null,
   "id": "84ef69c3",
   "metadata": {},
   "outputs": [],
   "source": []
  },
  {
   "cell_type": "code",
   "execution_count": null,
   "id": "82033f03",
   "metadata": {},
   "outputs": [],
   "source": []
  }
 ],
 "metadata": {
  "kernelspec": {
   "display_name": "Python 3",
   "language": "python",
   "name": "python3"
  },
  "language_info": {
   "codemirror_mode": {
    "name": "ipython",
    "version": 3
   },
   "file_extension": ".py",
   "mimetype": "text/x-python",
   "name": "python",
   "nbconvert_exporter": "python",
   "pygments_lexer": "ipython3",
   "version": "3.8.5"
  }
 },
 "nbformat": 4,
 "nbformat_minor": 5
}
